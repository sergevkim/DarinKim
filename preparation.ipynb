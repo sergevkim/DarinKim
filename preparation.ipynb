{
 "cells": [
  {
   "cell_type": "code",
   "execution_count": 1,
   "metadata": {},
   "outputs": [
    {
     "name": "stderr",
     "output_type": "stream",
     "text": [
      "/Users/sergevkim/anaconda3/lib/python3.7/importlib/_bootstrap.py:219: RuntimeWarning: compiletime version 3.6 of module 'tensorflow.python.framework.fast_tensor_util' does not match runtime version 3.7\n",
      "  return f(*args, **kwds)\n"
     ]
    },
    {
     "name": "stdout",
     "output_type": "stream",
     "text": [
      "env: CITYSCAPES_DATASET=/home/rvygon/data\n",
      "15\n",
      "15\n"
     ]
    }
   ],
   "source": [
    "import pickle\n",
    "import time\n",
    "import os, glob, sys\n",
    "\n",
    "import numpy as np\n",
    "import matplotlib.pyplot as plt\n",
    "import skimage\n",
    "from skimage.io import imread, imshow, imsave\n",
    "\n",
    "import h5py\n",
    "\n",
    "%matplotlib inline\n",
    "\n",
    "from tensorflow.python.keras.models import *\n",
    "from tensorflow.python.keras.layers import *\n",
    "from tensorflow.python.keras.optimizers import *\n",
    "from tensorflow.python.keras.callbacks import ModelCheckpoint, LearningRateScheduler\n",
    "\n",
    "import functools\n",
    "#from eval import *\n",
    "\n",
    "import tensorflow as tf\n",
    "import random\n",
    "%env CITYSCAPES_DATASET = /home/rvygon/data\n",
    "from tensorflow.metrics import *\n",
    "%load_ext autoreload\n",
    "%autoreload 2\n",
    "LETTERS = list('abcdefghjklmnop')\n",
    "NUMBERS = [i for i in range(1, 16)]\n",
    "print(len(LETTERS))\n",
    "print(len(NUMBERS))\n",
    "DATA_FILE = 'data.csv'"
   ]
  },
  {
   "cell_type": "code",
   "execution_count": 2,
   "metadata": {},
   "outputs": [
    {
     "name": "stdout",
     "output_type": "stream",
     "text": [
      "Done!\n",
      "72393\n",
      "98\n"
     ]
    }
   ],
   "source": [
    "class Position:\n",
    "    def __init__(self, turn, seq, label=None):    # seq is a list of cells (x, y)\n",
    "        self.fir = np.array([[0 for j in range(15)] for i in range(15)])\n",
    "        self.sec = np.array([[0 for j in range(15)] for i in range(15)])\n",
    "        self.thi = np.array([[turn for j in range(15)] for i in range(15)])\n",
    "        self.label = label\n",
    "        for i in range(len(seq)):\n",
    "            if i % 2 == 0:\n",
    "                self.fir[seq[i][0]][seq[i][1]] = 1\n",
    "            else:\n",
    "                self.sec[seq[i][0]][seq[i][1]] = -1\n",
    "        self.image = np.array([self.fir, self.sec, self.thi])\n",
    "        self.object = np.array([self.image, self.label])\n",
    "\n",
    "def translate(coords):    # type(coords) == str: k8, h1, etc. Want tuple\n",
    "    coordFir = LETTERS.index(coords[0])\n",
    "    coordSec = int(coords[1:]) - 1\n",
    "    return (coordSec, coordFir)\n",
    "\n",
    "def translate2(coords):   #type(coords) == tuple: (7, 7), (9, 9), etc. Want a vector of nums for each class\n",
    "    res = coords[0] * 15 + coords[1]\n",
    "    return res\n",
    "    \n",
    "\n",
    "def to_seq(game):\n",
    "    seq = []\n",
    "    if game[0] == 'black':\n",
    "        winner = 1\n",
    "    else:\n",
    "        winner = -1\n",
    "    for i in range(1, len(game) - 1):\n",
    "        seq.append(translate(game[i]))\n",
    "    return winner, seq\n",
    "\n",
    "allPositions = []\n",
    "\n",
    "reader = open('train-1.renju', 'r')\n",
    "for i in range(5000):\n",
    "    a = list(map(str, reader.readline().split()))\n",
    "    winner, seq = to_seq(a)\n",
    "    if winner == 1:\n",
    "        for j in range(0, len(seq) - 2, 2):\n",
    "            seq2 = seq[:j]\n",
    "            cur = translate2(seq[j])\n",
    "            if len(seq2) % 2 == 0:\n",
    "                player = 1\n",
    "            else:\n",
    "                player = -1\n",
    "            p = Position(player, seq2, cur)\n",
    "            allPositions.append(p.object)\n",
    "    else:\n",
    "        for j in range(1, len(seq) - 2, 2):\n",
    "            seq2 = seq[:j]\n",
    "            cur = translate2(seq[j])\n",
    "            if len(seq2) % 2 == 0:\n",
    "                player = 1\n",
    "            else:\n",
    "                player = -1\n",
    "            p = Position(player, seq2, cur)\n",
    "            allPositions.append(p.object)\n",
    "\n",
    "#print(allPositions)\n",
    "#allPositions = np.array(allPositions)\n",
    "with open(\"data.txt\", \"wb\") as fp:   #Pickling\n",
    "    pickle.dump(allPositions, fp)\n",
    "print('Done!')\n",
    "with open(\"data.txt\", \"rb\") as fp:   # Unpickling\n",
    "    allP = pickle.load(fp)\n",
    "print(len(allP))\n",
    "print(allP[1][1])"
   ]
  }
 ],
 "metadata": {
  "kernelspec": {
   "display_name": "Python 3",
   "language": "python",
   "name": "python3"
  },
  "language_info": {
   "codemirror_mode": {
    "name": "ipython",
    "version": 3
   },
   "file_extension": ".py",
   "mimetype": "text/x-python",
   "name": "python",
   "nbconvert_exporter": "python",
   "pygments_lexer": "ipython3",
   "version": "3.7.1"
  }
 },
 "nbformat": 4,
 "nbformat_minor": 2
}
